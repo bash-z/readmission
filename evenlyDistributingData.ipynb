{
 "cells": [
  {
   "cell_type": "code",
   "execution_count": 78,
   "metadata": {},
   "outputs": [],
   "source": [
    "import numpy as np\n",
    "def loadCsv(filename):\n",
    "    lines = csv.reader(open(filename, newline=''), delimiter=',', quotechar='|')\n",
    "    next(lines)\n",
    "    dataset = []\n",
    "    for row in lines:\n",
    "        dataset.append([float(x) for x in row])\n",
    "    return dataset\n",
    "\n",
    "def makeDataBalanced(dataset, multiplier):\n",
    "    print (type(dataset))\n",
    "    datasetNp = np.array(dataset)\n",
    "    print (datasetNp.shape)\n",
    "    ind=np.argsort(datasetNp[:,-1])\n",
    "    sorted=datasetNp[ind]\n",
    "    print(sorted)\n",
    "    \n",
    "    numOf1s = sum(datasetNp[:, -1])\n",
    "    \n",
    "    numToRemove = (int) (datasetNp.shape[0] - multiplier*numOf1s)\n",
    "    \n",
    "    removedExcess = sorted[numToRemove:, :]\n",
    "    print (removedExcess.shape)\n",
    "    print (removedExcess)\n",
    "    return removedExcess\n",
    "    \n",
    "#     np.random.shuffle(removedExcess)\n",
    "#     print (removedExcess.shape)\n",
    "#     print (removedExcess[0:20, -1])\n",
    "#     print (sum(removedExcess[:, -1]))\n",
    "\n",
    "    "
   ]
  },
  {
   "cell_type": "code",
   "execution_count": 81,
   "metadata": {},
   "outputs": [
    {
     "name": "stdout",
     "output_type": "stream",
     "text": [
      "<class 'list'>\n",
      "(28860, 69)\n",
      "[[ 0.04021047 -0.02309809  0.73987158 ...  2.          1.\n",
      "   0.        ]\n",
      " [-0.18655092 -0.19467986 -0.23469864 ...  0.          1.\n",
      "   0.        ]\n",
      " [-0.42910511 -0.02309809 -0.23469864 ...  0.          1.\n",
      "   0.        ]\n",
      " ...\n",
      " [-0.38166593  0.23427456  0.35004349 ...  6.          1.\n",
      "   1.        ]\n",
      " [ 0.11196014  0.49164721  0.19411226 ...  0.          1.\n",
      "   1.        ]\n",
      " [ 0.01701324  0.49164721  1.67545898 ...  0.          1.\n",
      "   1.        ]]\n",
      "(9183, 69)\n",
      "[[-1.03825689 -0.62363429 -0.46859549 ...  0.          1.\n",
      "   0.        ]\n",
      " [-0.49260699  0.14848368  0.15512945 ...  2.          1.\n",
      "   0.        ]\n",
      " [-0.17418832  0.74901987  1.94833864 ...  2.          1.\n",
      "   0.        ]\n",
      " ...\n",
      " [-0.38166593  0.23427456  0.35004349 ...  6.          1.\n",
      "   1.        ]\n",
      " [ 0.11196014  0.49164721  0.19411226 ...  0.          1.\n",
      "   1.        ]\n",
      " [ 0.01701324  0.49164721  1.67545898 ...  0.          1.\n",
      "   1.        ]]\n",
      "3061.0\n",
      "(9183, 69)\n"
     ]
    }
   ],
   "source": [
    "def main():\n",
    "    filename = 'readmission.csv'\n",
    "    dataset = loadCsv(filename)\n",
    "    balancedData = makeDataBalanced(dataset, 3)\n",
    "    pd.DataFrame(balancedData).to_csv(\"balanced1.csv\")\n",
    "    print (sum(balancedData[:,-1]))\n",
    "    print (balancedData.shape)\n",
    "\n",
    "    \n",
    "main()\n",
    "    "
   ]
  },
  {
   "cell_type": "code",
   "execution_count": null,
   "metadata": {},
   "outputs": [],
   "source": []
  },
  {
   "cell_type": "code",
   "execution_count": null,
   "metadata": {},
   "outputs": [],
   "source": []
  }
 ],
 "metadata": {
  "kernelspec": {
   "display_name": "Python 3",
   "language": "python",
   "name": "python3"
  },
  "language_info": {
   "codemirror_mode": {
    "name": "ipython",
    "version": 3
   },
   "file_extension": ".py",
   "mimetype": "text/x-python",
   "name": "python",
   "nbconvert_exporter": "python",
   "pygments_lexer": "ipython3",
   "version": "3.7.3"
  }
 },
 "nbformat": 4,
 "nbformat_minor": 4
}
